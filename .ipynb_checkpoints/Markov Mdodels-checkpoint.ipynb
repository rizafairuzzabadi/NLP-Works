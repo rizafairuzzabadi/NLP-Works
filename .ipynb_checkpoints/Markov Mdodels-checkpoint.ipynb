{
 "cells": [
  {
   "cell_type": "code",
   "execution_count": 4,
   "id": "21f4739b-9ffd-498d-af40-1cf7cb2a0f04",
   "metadata": {},
   "outputs": [
    {
     "name": "stderr",
     "output_type": "stream",
     "text": [
      "--2021-10-12 19:10:16--  https://raw.githubusercontent.com/lazyprogrammer/machine_learning_examples/master/hmm_class/edgar_allan_poe.txt\n",
      "Resolving raw.githubusercontent.com (raw.githubusercontent.com)... 185.199.110.133, 185.199.109.133, 185.199.108.133, ...\n",
      "Connecting to raw.githubusercontent.com (raw.githubusercontent.com)|185.199.110.133|:443... connected.\n",
      "HTTP request sent, awaiting response... 200 OK\n",
      "Length: 26622 (26K) [text/plain]\n",
      "Saving to: 'edgar_allan_poe.txt'\n",
      "\n",
      "     0K .......... .......... .....                           100% 2.96M=0.009s\n",
      "\n",
      "2021-10-12 19:10:17 (2.96 MB/s) - 'edgar_allan_poe.txt' saved [26622/26622]\n",
      "\n",
      "--2021-10-12 19:10:17--  https://raw.githubusercontent.com/lazyprogrammer/machine_learning_examples/master/hmm_class/robert_frost.txt\n",
      "Resolving raw.githubusercontent.com (raw.githubusercontent.com)... 185.199.110.133, 185.199.109.133, 185.199.108.133, ...\n",
      "Connecting to raw.githubusercontent.com (raw.githubusercontent.com)|185.199.110.133|:443... connected.\n",
      "HTTP request sent, awaiting response... 200 OK\n",
      "Length: 56286 (55K) [text/plain]\n",
      "Saving to: 'robert_frost.txt'\n",
      "\n",
      "     0K .......... .......... .......... .......... .......... 90% 1.27M 0s\n",
      "    50K ....                                                  100% 2.52M=0.04s\n",
      "\n",
      "2021-10-12 19:10:17 (1.33 MB/s) - 'robert_frost.txt' saved [56286/56286]\n",
      "\n"
     ]
    }
   ],
   "source": [
    "!wget -nc https://raw.githubusercontent.com/lazyprogrammer/machine_learning_examples/master/hmm_class/edgar_allan_poe.txt\n",
    "!wget -nc https://raw.githubusercontent.com/lazyprogrammer/machine_learning_examples/master/hmm_class/robert_frost.txt"
   ]
  },
  {
   "cell_type": "code",
   "execution_count": 13,
   "id": "c69ee209-4252-49bf-8336-888dca36bf35",
   "metadata": {},
   "outputs": [],
   "source": [
    "import numpy as np\n",
    "import matplotlib.pyplot as plt\n",
    "import string\n",
    "from sklearn.model_selection import train_test_split"
   ]
  },
  {
   "cell_type": "code",
   "execution_count": 14,
   "id": "53275c64-09d1-4c5c-8261-cfc85ed09238",
   "metadata": {},
   "outputs": [],
   "source": [
    "input_files = [\n",
    "  'edgar_allan_poe.txt',\n",
    "  'robert_frost.txt',\n",
    "]"
   ]
  },
  {
   "cell_type": "code",
   "execution_count": 15,
   "id": "fb55d94b-bf0c-4724-a440-9f360049bc40",
   "metadata": {},
   "outputs": [
    {
     "name": "stdout",
     "output_type": "stream",
     "text": [
      "LO! Death hath rear'd himself a throne\n",
      "In a strange city, all alone,\n",
      "Far down within the dim west\n",
      "Where the good, and the bad, and the worst, and the best,\n",
      "Have gone to their eternal rest.\n",
      "â€‰\n",
      "There shrines, and palaces, and towers\n",
      "Are not like any thing of ours\n",
      "Oh no! O no! ours never loom\n",
      "To heaven with that ungodly gloom!\n"
     ]
    }
   ],
   "source": [
    "!head edgar_allan_poe.txt"
   ]
  },
  {
   "cell_type": "code",
   "execution_count": 16,
   "id": "84061b79-ea2a-452c-8f2e-04124478c299",
   "metadata": {},
   "outputs": [
    {
     "name": "stdout",
     "output_type": "stream",
     "text": [
      "Two roads diverged in a yellow wood,\n",
      "And sorry I could not travel both\n",
      "And be one traveler, long I stood\n",
      "And looked down one as far as I could\n",
      "To where it bent in the undergrowth; \n",
      "\n",
      "Then took the other, as just as fair,\n",
      "And having perhaps the better claim\n",
      "Because it was grassy and wanted wear,\n",
      "Though as for that the passing there\n"
     ]
    }
   ],
   "source": [
    "!head robert_frost.txt"
   ]
  },
  {
   "cell_type": "code",
   "execution_count": 20,
   "id": "bf1bdda1-76ba-4359-87ab-abdc27a8f65c",
   "metadata": {},
   "outputs": [
    {
     "name": "stdout",
     "output_type": "stream",
     "text": [
      "1\n",
      "edgar_allan_poe.txt) corresponds to label 0\n",
      "robert_frost.txt) corresponds to label 1\n"
     ]
    }
   ],
   "source": [
    "# collect data into lists\n",
    "input_texts = []\n",
    "labels = []\n",
    "\n",
    "print(label)\n",
    "\n",
    "for label, f in enumerate(input_files):\n",
    "    print(f\"{f}) corresponds to label {label}\")\n",
    "    \n",
    "    for line in open(f):\n",
    "        line = line.rstrip().lower()\n",
    "        if line:\n",
    "            # remove punctuation\n",
    "            line = line.translate(str.maketrans('', '', string.punctuation))\n",
    "            \n",
    "            input_texts.append(line)\n",
    "            labels.append(label)"
   ]
  },
  {
   "cell_type": "code",
   "execution_count": 21,
   "id": "b6f6c41d-fc64-44c0-9c51-6b8b04f20341",
   "metadata": {},
   "outputs": [],
   "source": [
    "train_text, test_text, Ytrain, Ytest = train_test_split(input_texts, labels)"
   ]
  },
  {
   "cell_type": "code",
   "execution_count": 22,
   "id": "e56eb375-8423-4a7e-88ee-9641b9bad606",
   "metadata": {},
   "outputs": [
    {
     "data": {
      "text/plain": [
       "(1618, 540)"
      ]
     },
     "execution_count": 22,
     "metadata": {},
     "output_type": "execute_result"
    }
   ],
   "source": [
    "len(Ytrain), len(Ytest)"
   ]
  },
  {
   "cell_type": "code",
   "execution_count": 23,
   "id": "e0237343-7572-4d64-b9fb-9b7385010500",
   "metadata": {},
   "outputs": [
    {
     "data": {
      "text/plain": [
       "['we safely may trust to a gleaming',\n",
       " 'not long ago the writer of these lines',\n",
       " 'from that which he was headed forâ€”',\n",
       " 'save only thee and me oh heaven oh god',\n",
       " 'bless you its all expense though reach me down']"
      ]
     },
     "execution_count": 23,
     "metadata": {},
     "output_type": "execute_result"
    }
   ],
   "source": [
    "train_text[:5]"
   ]
  },
  {
   "cell_type": "code",
   "execution_count": 24,
   "id": "f947e39c-a5ee-4203-aba6-1bdcc052f5b2",
   "metadata": {},
   "outputs": [
    {
     "data": {
      "text/plain": [
       "[0, 0, 1, 0, 1]"
      ]
     },
     "execution_count": 24,
     "metadata": {},
     "output_type": "execute_result"
    }
   ],
   "source": [
    "Ytrain[:5]"
   ]
  },
  {
   "cell_type": "code",
   "execution_count": 25,
   "id": "51de1c02-e14e-441c-ab2d-0ddc72cce768",
   "metadata": {},
   "outputs": [
    {
     "data": {
      "text/plain": [
       "['this he sat listening to till she gave judgment',\n",
       " 'well i know now this dim lake of auber ',\n",
       " 'and this bill',\n",
       " 'but only so an hour',\n",
       " 'and miles to go before i sleep']"
      ]
     },
     "execution_count": 25,
     "metadata": {},
     "output_type": "execute_result"
    }
   ],
   "source": [
    "test_text[:5]"
   ]
  },
  {
   "cell_type": "code",
   "execution_count": 26,
   "id": "8ed54ddd-afbc-4a08-9c53-411bebcfa111",
   "metadata": {},
   "outputs": [
    {
     "data": {
      "text/plain": [
       "[1, 0, 1, 1, 1]"
      ]
     },
     "execution_count": 26,
     "metadata": {},
     "output_type": "execute_result"
    }
   ],
   "source": [
    "Ytest[:5]"
   ]
  },
  {
   "cell_type": "code",
   "execution_count": null,
   "id": "6252a274-50bb-4706-968a-01b034f51429",
   "metadata": {},
   "outputs": [],
   "source": []
  }
 ],
 "metadata": {
  "kernelspec": {
   "display_name": "Python 3",
   "language": "python",
   "name": "python3"
  },
  "language_info": {
   "codemirror_mode": {
    "name": "ipython",
    "version": 3
   },
   "file_extension": ".py",
   "mimetype": "text/x-python",
   "name": "python",
   "nbconvert_exporter": "python",
   "pygments_lexer": "ipython3",
   "version": "3.8.8"
  }
 },
 "nbformat": 4,
 "nbformat_minor": 5
}
