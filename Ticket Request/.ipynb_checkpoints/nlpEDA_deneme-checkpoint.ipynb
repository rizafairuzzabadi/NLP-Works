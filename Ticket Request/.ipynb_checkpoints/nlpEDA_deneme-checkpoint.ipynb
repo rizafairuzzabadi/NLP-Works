{
 "cells": [
  {
   "cell_type": "code",
   "execution_count": 1046,
   "id": "367bf3c7-5ea1-4136-9e3f-3ee2a62767c4",
   "metadata": {},
   "outputs": [
    {
     "name": "stderr",
     "output_type": "stream",
     "text": [
      "[nltk_data] Downloading package stopwords to\n",
      "[nltk_data]     C:\\Users\\LENOVO\\AppData\\Roaming\\nltk_data...\n",
      "[nltk_data]   Package stopwords is already up-to-date!\n"
     ]
    }
   ],
   "source": [
    "import pandas as pd\n",
    "import os\n",
    "import nltk\n",
    "import re\n",
    "nltk.download('stopwords')\n",
    "from pandas_profiling import ProfileReport\n",
    "from nltk.tokenize import word_tokenize\n",
    "from nltk.corpus import stopwords\n",
    "from nltk.tokenize.treebank import TreebankWordDetokenizer\n",
    "from collections import Counter\n",
    "import seaborn as sns\n",
    "import matplotlib.pyplot as plt\n",
    "import numpy as np\n",
    "import string\n",
    "import zeyrek\n",
    "\n",
    "\n",
    "%matplotlib inline"
   ]
  },
  {
   "cell_type": "markdown",
   "id": "b3233339-97ea-4894-bf87-91e70932b9bf",
   "metadata": {},
   "source": [
    "### Check current Directory ###\n",
    "and read the xlsx file"
   ]
  },
  {
   "cell_type": "code",
   "execution_count": null,
   "id": "c1518d7a-4f00-47ec-ba65-25b733b4204f",
   "metadata": {},
   "outputs": [],
   "source": [
    "current_directory = os.getcwd()\n",
    "print(current_directory) "
   ]
  },
  {
   "cell_type": "code",
   "execution_count": null,
   "id": "4be6fbe7-0170-4935-a424-1f160d2bd19b",
   "metadata": {},
   "outputs": [],
   "source": [
    "filepath2 = \"NLP/SoftwareRequest.xlsx\"\n",
    "data2 = pd.read_excel(filepath2)\n",
    "data2 #checking the file initially"
   ]
  },
  {
   "cell_type": "markdown",
   "id": "8d44c715-e9aa-472c-bd66-d14b49d0a6eb",
   "metadata": {},
   "source": [
    "## Initial Analysis ##"
   ]
  },
  {
   "cell_type": "markdown",
   "id": "736d2857-97b1-4bfa-9097-1893161640d4",
   "metadata": {},
   "source": [
    "Columns data type and nulls"
   ]
  },
  {
   "cell_type": "code",
   "execution_count": 1049,
   "id": "289e6162-9dd9-41cc-a084-860d4de9bc97",
   "metadata": {},
   "outputs": [
    {
     "name": "stdout",
     "output_type": "stream",
     "text": [
      "<class 'pandas.core.frame.DataFrame'>\n",
      "RangeIndex: 3434 entries, 0 to 3433\n",
      "Data columns (total 22 columns):\n",
      " #   Column                         Non-Null Count  Dtype  \n",
      "---  ------                         --------------  -----  \n",
      " 0   Issue Type                     3434 non-null   object \n",
      " 1   Key                            3434 non-null   object \n",
      " 2   Linked Issues                  2567 non-null   object \n",
      " 3   Summary                        3434 non-null   object \n",
      " 4   Status                         3434 non-null   object \n",
      " 5   Assignable Responsible Group   659 non-null    object \n",
      " 6   Assignee                       3434 non-null   object \n",
      " 7   Creator                        3434 non-null   object \n",
      " 8   Reporter                       3434 non-null   object \n",
      " 9   Priority                       3434 non-null   object \n",
      " 10  Resolution                     3434 non-null   object \n",
      " 11  Created                        3434 non-null   object \n",
      " 12  Updated                        3434 non-null   object \n",
      " 13  Due Date                       0 non-null      float64\n",
      " 14  Development                    0 non-null      float64\n",
      " 15  Jira Project                   0 non-null      float64\n",
      " 16  Resolved                       3434 non-null   object \n",
      " 17  Resolution Detail              3432 non-null   object \n",
      " 18  Service Request SLA Category   3434 non-null   object \n",
      " 19  Description                    3434 non-null   object \n",
      " 20  Description Message            0 non-null      float64\n",
      " 21  Kurulumu istenen uygulama adı  0 non-null      float64\n",
      "dtypes: float64(5), object(17)\n",
      "memory usage: 590.3+ KB\n"
     ]
    }
   ],
   "source": [
    "data2.info() #data info of the dataset in general"
   ]
  },
  {
   "cell_type": "code",
   "execution_count": 1050,
   "id": "385cd11c-6265-4b45-a91e-a3025c3a5ecc",
   "metadata": {},
   "outputs": [
    {
     "data": {
      "text/plain": [
       "Issue Type                          0\n",
       "Key                                 0\n",
       "Linked Issues                     867\n",
       "Summary                             0\n",
       "Status                              0\n",
       "Assignable Responsible Group     2775\n",
       "Assignee                            0\n",
       "Creator                             0\n",
       "Reporter                            0\n",
       "Priority                            0\n",
       "Resolution                          0\n",
       "Created                             0\n",
       "Updated                             0\n",
       "Due Date                         3434\n",
       "Development                      3434\n",
       "Jira Project                     3434\n",
       "Resolved                            0\n",
       "Resolution Detail                   2\n",
       "Service Request SLA Category        0\n",
       "Description                         0\n",
       "Description Message              3434\n",
       "Kurulumu istenen uygulama adı    3434\n",
       "dtype: int64"
      ]
     },
     "execution_count": 1050,
     "metadata": {},
     "output_type": "execute_result"
    }
   ],
   "source": [
    "data2.isnull().sum()"
   ]
  },
  {
   "cell_type": "markdown",
   "id": "41cb1e58-f33b-43ec-b2e8-ce5b2e945682",
   "metadata": {},
   "source": [
    "### Check Default TR Stopwords and Include some Additions ###"
   ]
  },
  {
   "cell_type": "code",
   "execution_count": 1051,
   "id": "aad70e51-a2c6-4dbd-9a8f-0cf2993f4077",
   "metadata": {},
   "outputs": [
    {
     "name": "stdout",
     "output_type": "stream",
     "text": [
      "['acaba', 'ama', 'aslında', 'az', 'bazı', 'belki', 'biri', 'birkaç', 'birşey', 'biz', 'bu', 'çok', 'çünkü', 'da', 'daha', 'de', 'defa', 'diye', 'eğer', 'en', 'gibi', 'hem', 'hep', 'hepsi', 'her', 'hiç', 'için', 'ile', 'ise', 'kez', 'ki', 'kim', 'mı', 'mu', 'mü', 'nasıl', 'ne', 'neden', 'nerde', 'nerede', 'nereye', 'niçin', 'niye', 'o', 'sanki', 'şey', 'siz', 'şu', 'tüm', 've', 'veya', 'ya', 'yani']\n",
      "53\n"
     ]
    }
   ],
   "source": [
    "TR_stopwords = stopwords.words('Turkish') #get the Turkish stopwords\n",
    "print(TR_stopwords) #check which words are included in nltk turkish stopwords\n",
    "print(len(TR_stopwords))"
   ]
  },
  {
   "cell_type": "markdown",
   "id": "7fdea4c4-7697-4083-99f8-e8999dab1d8d",
   "metadata": {},
   "source": [
    "Add some more"
   ]
  },
  {
   "cell_type": "code",
   "execution_count": 1052,
   "id": "74dcefda-ce1e-4725-9c05-1678f18aa0bf",
   "metadata": {},
   "outputs": [],
   "source": [
    "extr1=[line.strip() for line in open('stop_words_turkish.txt',encoding='utf-8')] #https://github.com/tkorkunckaya/Turkish-Stopwords/blob/master/stopwords/mongo/stop_words_turkish.txt\n",
    "extr2=[line.strip() for line in open('turkce-stop-words.txt',encoding='utf-8')]  #https://github.com/sgsinclair/trombone/blob/master/src/main/resources/org/voyanttools/trombone/keywords/stop.tr.turkish-lucene.txt\n",
    "for i in range (0, len(extr1)):\n",
    "    if extr1[i] not in TR_stopwords:\n",
    "        TR_stopwords.append(extr1[i])\n",
    "for i in range (0, len(extr2)):\n",
    "    if extr2[i] not in TR_stopwords:\n",
    "        TR_stopwords.append(extr2[i])"
   ]
  },
  {
   "cell_type": "code",
   "execution_count": 1053,
   "id": "1848e4fa-4ae6-4540-8c40-cd3e409c1e33",
   "metadata": {},
   "outputs": [
    {
     "name": "stdout",
     "output_type": "stream",
     "text": [
      "['acaba', 'ama', 'aslında', 'az', 'bazı', 'belki', 'biri', 'birkaç', 'birşey', 'biz', 'bu', 'çok', 'çünkü', 'da', 'daha', 'de', 'defa', 'diye', 'eğer', 'en', 'gibi', 'hem', 'hep', 'hepsi', 'her', 'hiç', 'için', 'ile', 'ise', 'kez', 'ki', 'kim', 'mı', 'mu', 'mü', 'nasıl', 'ne', 'neden', 'nerde', 'nerede', 'nereye', 'niçin', 'niye', 'o', 'sanki', 'şey', 'siz', 'şu', 'tüm', 've', 'veya', 'ya', 'yani', 'amma', 'anca', 'ancak', 'dahi', 'emme', 'fakat', 'gah', 'gerek', 'hakeza', 'halbuki', 'hatta', 'hele', 'hoş', 'imdi', 'ister', 'kah', 'keşke', 'keza', 'kezalik', 'lakin', 'madem', 'mademki', 'mamafih', 'meğer', 'meğerki', 'meğerse', 'netekim', 'neyse', 'nitekim', 'oysa', 'oysaki', 'şayet', 'velev', 'velhasıl', 'velhasılıkelam', 'veyahut', 'yahut', 'yalnız', 'yok', 'yoksa', 'zira', 'acep', 'açıkça', 'açıkçası', 'adamakıllı', 'adeta', 'bazen', 'bilcümle', 'binaen', 'binaenaleyh', 'bir', 'biraz', 'birazdan', 'birden', 'birdenbire', 'birice', 'birlikte', 'bitevi', 'biteviye', 'bittabi', 'bizatihi', 'bizce', 'bizcileyin', 'bizden', 'bizzat', 'boşuna', 'böyle', 'böylece', 'böylecene', 'böylelikle', 'böylemesine', 'böylesine', 'buracıkta', 'burada', 'buradan', 'büsbütün', 'çabuk', 'çabukça', 'çeşitli', 'çoğu', 'çoğun', 'çoğunca', 'çoğunlukla', 'çokça', 'çokluk', 'çoklukla', 'cuk', 'dahil', 'dahilen', 'daima', 'demin', 'demincek', 'deminden', 'derakap', 'derhal', 'derken', 'elbet', 'elbette', 'enikonu', 'epey', 'epeyce', 'epeyi', 'esasen', 'esnasında', 'etraflı', 'etraflıca', 'evleviyetle', 'evvel', 'evvela', 'evvelce', 'evvelden', 'evvelemirde', 'evveli', 'gayet', 'gayetle', 'gayri', 'gayrı', 'geçende', 'geçenlerde', 'gene', 'gerçi', 'gibilerden', 'gibisinden', 'gine', 'halen', 'halihazırda', 'haliyle', 'handiyse', 'hani', 'hasılı', 'hulasaten', 'iken', 'illa', 'illaki', 'itibarıyla', 'iyice', 'iyicene', 'kala', 'kısaca', 'külliyen', 'lütfen', 'nasılsa', 'nazaran', 'nedeniyle', 'nedense', 'nerden', 'nerdeyse', 'nereden', 'neredeyse', 'neye', 'neyi', 'nice', 'nihayet', 'nihayetinde', 'oldu', 'oldukça', 'olur', 'onca', 'önce', 'önceden', 'önceleri', 'öncelikle', 'onculayın', 'ondan', 'oracık', 'oracıkta', 'orada', 'oradan', 'oranca', 'oranla', 'oraya', 'öyle', 'öylece', 'öylelikle', 'öylemesine', 'pek', 'pekala', 'pekçe', 'peki', 'peyderpey', 'sadece', 'sahi', 'sahiden', 'sonra', 'sonradan', 'sonraları', 'sonunda', 'şöyle', 'şuncacık', 'şuracıkta', 'tabii', 'tam', 'tamam', 'tamamen', 'tamamıyla', 'tek', 'vasıtasıyla', 'yakinen', 'yakında', 'yakından', 'yakınlarda', 'yalnızca', 'yeniden', 'yenilerde', 'yine', 'yoluyla', 'yüzünden', 'zaten', 'zati', 'ait', 'bari', 'beri', 'bile', 'değin', 'dek', 'denli', 'doğru', 'dolayı', 'dolayısıyla', 'gelgelelim', 'gırla', 'göre', 'hasebiyle', 'ila', 'ilen', 'indinde', 'inen', 'kadar', 'kaffesi', 'karşın', 'kelli', 'Leh', 'maada', 'mebni', 'naşi', 'rağmen', 'üzere', 'zarfında', 'öbür', 'bana', 'başkası', 'ben', 'beriki', 'birbiri', 'birçoğu', 'birileri', 'birisi', 'birkaçı', 'bizimki', 'buna', 'bunda', 'bundan', 'bunlar', 'bunu', 'bunun', 'burası', 'çokları', 'çoklarınca', 'cümlesi', 'değil', 'diğeri', 'filanca', 'hangisi', 'hiçbiri', 'iş', 'kaçı', 'kaynak', 'kendi', 'kimi', 'kimisi', 'kimse', 'kimsecik', 'kimsecikler', 'nere', 'neresi', 'öbürkü', 'öbürü', 'ona', 'onda', 'onlar', 'onu', 'onun', 'öteki', 'ötekisi', 'öz', 'sana', 'sen', 'şuna', 'şunda', 'şundan', 'şunlar', 'şunu', 'şunun', 'şura', 'şuracık', 'şurası', 'a', 'altı', 'altmış', 'arada', 'artık', 'asla', 'ayrıca', 'bazıları', 'benden', 'beni', 'benim', 'beş', 'bilhassa', 'bin', 'birçok', 'bize', 'bizi', 'bizim', 'bunları', 'bunların', 'bütün', 'çoğunu', 'dan', 'diğer', 'diğerleri', 'doksan', 'dokuz', 'dört', 'e', 'edecek', 'eden', 'ederek', 'edilecek', 'ediliyor', 'edilmesi', 'ediyor', 'elli', 'etmesi', 'etti', 'ettiği', 'ettiğini', 'falan', 'filan', 'gereği', 'hala', 'halde', 'hangi', 'henüz', 'herhangi', 'herkes', 'herkese', 'herkesi', 'herkesin', 'hiçbir', 'i', 'ı', 'içinde', 'iki', 'ilgili', 'işte', 'itibaren', 'itibariyle', 'kaç', 'kendilerine', 'kendine', 'kendini', 'kendisi', 'kendisine', 'kendisini', 'kime', 'kimin', 'kırk', 'mi', 'milyar', 'milyon', 'nedenle', 'nin', 'nın', 'nun', 'nün', 'olan', 'olarak', 'olduğu', 'olduğunu', 'olduklarını', 'olmadı', 'olmadığı', 'olmak', 'olması', 'olmayan', 'olmaz', 'olsa', 'olsun', 'olup', 'olursa', 'oluyor', 'on', 'ön', 'onlara', 'onlardan', 'onları', 'onların', 'öte', 'ötürü', 'otuz', 'şekilde', 'sekiz', 'seksen', 'senden', 'seni', 'senin', 'şeyden', 'şeye', 'şeyi', 'şeyler', 'şimdi', 'sizden', 'size', 'sizi', 'sizin', 'şunları', 'ta', 'tarafından', 'trilyon', 'tümü', 'u', 'ü', 'üç', 'un', 'ün', 'var', 'vardı', 'yapacak', 'yapılan', 'yapılması', 'yapıyor', 'yapmak', 'yaptı', 'yaptığı', 'yaptığını', 'yaptıkları', 'ye', 'yedi', 'yerine', 'yetmiş', 'yi', 'yı', 'yirmi', 'yu', 'yüz', 'zxtest']\n",
      "500\n"
     ]
    }
   ],
   "source": [
    "print(TR_stopwords) #check which words are included in nltk turkish stopwords\n",
    "print(len(TR_stopwords))"
   ]
  },
  {
   "cell_type": "code",
   "execution_count": 1054,
   "id": "ff53b3ad-25b8-4615-a904-57e0fabffefc",
   "metadata": {},
   "outputs": [],
   "source": [
    "#data2['PreProcessed']=data2['PreProcessed'].apply(lambda x: re.sub('[%s]' % re.escape(string.punctuation), '', x))"
   ]
  },
  {
   "cell_type": "markdown",
   "id": "71ede41c-b5b0-4baf-9673-4e789116ed27",
   "metadata": {},
   "source": [
    "### Tokenize, Remove Stopwords, Detokenize, Extract Verbs, Lower, Remove Punctuations (case) ###"
   ]
  },
  {
   "cell_type": "code",
   "execution_count": null,
   "id": "044b8c13-fd06-4a1b-a101-040412f20417",
   "metadata": {},
   "outputs": [],
   "source": [
    "data2['No_SW_Lowered'] =  data2['Description'].apply(str.lower) #lowercase\n",
    "data2['No_SW_Lowered'] = data2['No_SW_Lowered'].apply(lambda x: re.sub('[%s]' % re.escape(string.punctuation), '', x))\n",
    "data2['tokenized_text'] = data2['No_SW_Lowered'].apply(word_tokenize) #tokenize the description\n",
    "\n",
    "temporaly = data2['tokenized_text'].copy()\n",
    "tempverb = data2['tokenized_text'].copy()\n",
    "\n",
    "#data2['tokens_without_sw'] = [word for word in data2['tokenized_text'] if word not in TR_stopwords] #remove the stopwords from tokens\n",
    "Verb_Checker = ('mak','mek','mesi','ması','mesini','masını','ıyorum','iyorum','makta','mekte','ğımız','ğimiz','bilmem','upgrade','install','setup','erim','ederim','kurulumu','iyor','ıyor','mam','mem','kullanmam','mış','miş','update') #arım and ma me gives error\n",
    "\n",
    "for i in range(0,len(temporaly.index)): \n",
    "    singleDescription = temporaly[i]\n",
    "    result = ' '.join(word for word in singleDescription if word not in TR_stopwords and not word.endswith(Verb_Checker) and not word.startswith(\"kullanı\") and not word.startswith(\"yük\") and not word.startswith(\"misin\"))\n",
    "    result2 = ' '.join(word for word in singleDescription if word.endswith(tuple(Verb_Checker)))\n",
    "    #result = ' '.join(word for word in singleDescription if word not in TR_stopwords)  -- default\n",
    "    temporaly[i] = result\n",
    "    tempverb[i] = result2\n",
    "\n",
    "data2['tokens_without_sw'] = temporaly \n",
    "data2['Verbs'] = tempverb\n",
    "\n",
    "#data2['tokens_without_sw'] = data2['tokens_without_sw'].apply(TreebankWordDetokenizer().detokenize) #back to proper sentences\n",
    "data2['No_SW_Lowered'] = data2['tokens_without_sw']\n",
    "data2 = data2.drop(columns = \"tokenized_text\") #drop the previously created, unnecessary columns\n",
    "data2 = data2.drop(columns = \"tokens_without_sw\")\n",
    "data2.head()"
   ]
  },
  {
   "cell_type": "markdown",
   "id": "0c51307a-0c2d-4c11-9660-74f0c25607ac",
   "metadata": {},
   "source": [
    "### Initial Word Frequency Analysis (After Stopwords Reduction) ###"
   ]
  },
  {
   "cell_type": "code",
   "execution_count": 1056,
   "id": "f1bc314d-59fb-4aed-97fb-4d73822ce84c",
   "metadata": {},
   "outputs": [
    {
     "data": {
      "text/html": [
       "<div>\n",
       "<style scoped>\n",
       "    .dataframe tbody tr th:only-of-type {\n",
       "        vertical-align: middle;\n",
       "    }\n",
       "\n",
       "    .dataframe tbody tr th {\n",
       "        vertical-align: top;\n",
       "    }\n",
       "\n",
       "    .dataframe thead th {\n",
       "        text-align: right;\n",
       "    }\n",
       "</style>\n",
       "<table border=\"1\" class=\"dataframe\">\n",
       "  <thead>\n",
       "    <tr style=\"text-align: right;\">\n",
       "      <th></th>\n",
       "      <th>Word</th>\n",
       "      <th>Frequency</th>\n",
       "    </tr>\n",
       "  </thead>\n",
       "  <tbody>\n",
       "    <tr>\n",
       "      <th>0</th>\n",
       "      <td>rica</td>\n",
       "      <td>2289</td>\n",
       "    </tr>\n",
       "    <tr>\n",
       "      <th>1</th>\n",
       "      <td>bilgisayarıma</td>\n",
       "      <td>690</td>\n",
       "    </tr>\n",
       "    <tr>\n",
       "      <th>2</th>\n",
       "      <td>merhaba</td>\n",
       "      <td>690</td>\n",
       "    </tr>\n",
       "    <tr>\n",
       "      <th>3</th>\n",
       "      <td>programının</td>\n",
       "      <td>483</td>\n",
       "    </tr>\n",
       "    <tr>\n",
       "      <th>4</th>\n",
       "      <td>konusunda</td>\n",
       "      <td>334</td>\n",
       "    </tr>\n",
       "    <tr>\n",
       "      <th>...</th>\n",
       "      <td>...</td>\n",
       "      <td>...</td>\n",
       "    </tr>\n",
       "    <tr>\n",
       "      <th>7155</th>\n",
       "      <td>zooma</td>\n",
       "      <td>1</td>\n",
       "    </tr>\n",
       "    <tr>\n",
       "      <th>7156</th>\n",
       "      <td>a00169646</td>\n",
       "      <td>1</td>\n",
       "    </tr>\n",
       "    <tr>\n",
       "      <th>7157</th>\n",
       "      <td>ekibinden</td>\n",
       "      <td>1</td>\n",
       "    </tr>\n",
       "    <tr>\n",
       "      <th>7158</th>\n",
       "      <td>geçmişte</td>\n",
       "      <td>1</td>\n",
       "    </tr>\n",
       "    <tr>\n",
       "      <th>7159</th>\n",
       "      <td>gunu</td>\n",
       "      <td>1</td>\n",
       "    </tr>\n",
       "  </tbody>\n",
       "</table>\n",
       "<p>7160 rows × 2 columns</p>\n",
       "</div>"
      ],
      "text/plain": [
       "               Word  Frequency\n",
       "0              rica       2289\n",
       "1     bilgisayarıma        690\n",
       "2           merhaba        690\n",
       "3       programının        483\n",
       "4         konusunda        334\n",
       "...             ...        ...\n",
       "7155          zooma          1\n",
       "7156      a00169646          1\n",
       "7157      ekibinden          1\n",
       "7158       geçmişte          1\n",
       "7159           gunu          1\n",
       "\n",
       "[7160 rows x 2 columns]"
      ]
     },
     "execution_count": 1056,
     "metadata": {},
     "output_type": "execute_result"
    }
   ],
   "source": [
    "new_df = data2['No_SW_Lowered'].str.replace('[^\\w\\s]','', regex=True).str.split(expand=True).stack().value_counts().reset_index()\n",
    "new_df.columns = ['Word', 'Frequency'] \n",
    "pd.set_option(\"display.max_rows\", 50, \"display.max_columns\", None)\n",
    "new_df"
   ]
  },
  {
   "cell_type": "markdown",
   "id": "b74b99db-f5ef-48cd-9505-7215a1f9ed32",
   "metadata": {},
   "source": [
    "### Lemmatizing ###"
   ]
  },
  {
   "cell_type": "code",
   "execution_count": null,
   "id": "2c6dcede-703d-4cb9-b279-cef4a3c8096a",
   "metadata": {},
   "outputs": [],
   "source": [
    "analiz = zeyrek.MorphAnalyzer()\n",
    "prelemm = data2['No_SW_Lowered'].apply(word_tokenize).copy()\n",
    "\n",
    "for i in range(0,len(prelemm.index)): \n",
    "    singleDescription = prelemm[i]\n",
    "    \n",
    "    thewords = []\n",
    "    for word in singleDescription:\n",
    "        def containsNumber(value):\n",
    "            for character in value:\n",
    "                if character.isdigit():\n",
    "                    return True\n",
    "                return False\n",
    "        if word == \"yeni\":\n",
    "            thewords.append(word)\n",
    "            continue\n",
    "        if word == \"hakkında\":\n",
    "            thewords.append(word)\n",
    "            continue\n",
    "        if(containsNumber(word) == False):\n",
    "            lem_tuple = analiz.lemmatize(word)\n",
    "            if len(lem_tuple) != 0:\n",
    "                listlem = lem_tuple[0]\n",
    "                if len(listlem[1]) > 1:\n",
    "                    thewords.append(listlem[1][1])\n",
    "                    continue\n",
    "                else:\n",
    "                    thewords.append(listlem[1][0])\n",
    "                    continue\n",
    "            else:\n",
    "                thewords.append(word)\n",
    "                continue\n",
    "        else:\n",
    "            thewords.append(word)\n",
    "            continue\n",
    "\n",
    "    result = ' '.join(word for word in thewords)\n",
    "    #result = ' '.join(word for word in singleDescription if word not in TR_stopwords)  -- default\n",
    "    prelemm[i] = result\n",
    "\n",
    "data2['After_Lemmatized'] = prelemm\n",
    "data2['After_Lemmatized'] = data2['After_Lemmatized'].apply(str.lower) #lowercase\n",
    "data2.head()"
   ]
  },
  {
   "cell_type": "markdown",
   "id": "a50f2862-8ecf-4c4a-ae67-ab80dfb9c350",
   "metadata": {},
   "source": [
    "### Initial Word Frequency Analysis (After Lemmatizing) ###"
   ]
  },
  {
   "cell_type": "code",
   "execution_count": 1058,
   "id": "bbc89c9c-ba76-49c4-8730-280d5776db5f",
   "metadata": {},
   "outputs": [
    {
     "data": {
      "text/html": [
       "<div>\n",
       "<style scoped>\n",
       "    .dataframe tbody tr th:only-of-type {\n",
       "        vertical-align: middle;\n",
       "    }\n",
       "\n",
       "    .dataframe tbody tr th {\n",
       "        vertical-align: top;\n",
       "    }\n",
       "\n",
       "    .dataframe thead th {\n",
       "        text-align: right;\n",
       "    }\n",
       "</style>\n",
       "<table border=\"1\" class=\"dataframe\">\n",
       "  <thead>\n",
       "    <tr style=\"text-align: right;\">\n",
       "      <th></th>\n",
       "      <th>Word</th>\n",
       "      <th>Frequency</th>\n",
       "    </tr>\n",
       "  </thead>\n",
       "  <tbody>\n",
       "    <tr>\n",
       "      <th>0</th>\n",
       "      <td>rica</td>\n",
       "      <td>2302</td>\n",
       "    </tr>\n",
       "    <tr>\n",
       "      <th>1</th>\n",
       "      <td>bilgisayar</td>\n",
       "      <td>1157</td>\n",
       "    </tr>\n",
       "    <tr>\n",
       "      <th>2</th>\n",
       "      <td>program</td>\n",
       "      <td>1003</td>\n",
       "    </tr>\n",
       "    <tr>\n",
       "      <th>3</th>\n",
       "      <td>merhaba</td>\n",
       "      <td>820</td>\n",
       "    </tr>\n",
       "    <tr>\n",
       "      <th>4</th>\n",
       "      <td>yardım</td>\n",
       "      <td>562</td>\n",
       "    </tr>\n",
       "    <tr>\n",
       "      <th>...</th>\n",
       "      <td>...</td>\n",
       "      <td>...</td>\n",
       "    </tr>\n",
       "    <tr>\n",
       "      <th>5194</th>\n",
       "      <td>dikk</td>\n",
       "      <td>1</td>\n",
       "    </tr>\n",
       "    <tr>\n",
       "      <th>5195</th>\n",
       "      <td>shop</td>\n",
       "      <td>1</td>\n",
       "    </tr>\n",
       "    <tr>\n",
       "      <th>5196</th>\n",
       "      <td>a00169651</td>\n",
       "      <td>1</td>\n",
       "    </tr>\n",
       "    <tr>\n",
       "      <th>5197</th>\n",
       "      <td>altınbaş</td>\n",
       "      <td>1</td>\n",
       "    </tr>\n",
       "    <tr>\n",
       "      <th>5198</th>\n",
       "      <td>httpswwwautodeskcomproductsmoldflowcommunicato...</td>\n",
       "      <td>1</td>\n",
       "    </tr>\n",
       "  </tbody>\n",
       "</table>\n",
       "<p>5199 rows × 2 columns</p>\n",
       "</div>"
      ],
      "text/plain": [
       "                                                   Word  Frequency\n",
       "0                                                  rica       2302\n",
       "1                                            bilgisayar       1157\n",
       "2                                               program       1003\n",
       "3                                               merhaba        820\n",
       "4                                                yardım        562\n",
       "...                                                 ...        ...\n",
       "5194                                               dikk          1\n",
       "5195                                               shop          1\n",
       "5196                                          a00169651          1\n",
       "5197                                           altınbaş          1\n",
       "5198  httpswwwautodeskcomproductsmoldflowcommunicato...          1\n",
       "\n",
       "[5199 rows x 2 columns]"
      ]
     },
     "execution_count": 1058,
     "metadata": {},
     "output_type": "execute_result"
    }
   ],
   "source": [
    "new_df2 = data2['After_Lemmatized'].str.replace('[^\\w\\s]','', regex=True).str.split(expand=True).stack().value_counts().reset_index()\n",
    "new_df2.columns = ['Word', 'Frequency'] \n",
    "pd.set_option(\"display.max_rows\", 50, \"display.max_columns\", None)\n",
    "new_df2"
   ]
  },
  {
   "cell_type": "markdown",
   "id": "b4364ef1-8579-4193-8b15-8ada34b2ce64",
   "metadata": {},
   "source": [
    "### Word Frequency Bar Chart - With and Without Lemmatizing ###"
   ]
  },
  {
   "cell_type": "code",
   "execution_count": 1059,
   "id": "382774f2-f912-4839-b3ca-d006b6d526ff",
   "metadata": {},
   "outputs": [
    {
     "data": {
      "image/png": "[encoded data removed]",
      "text/plain": [
       "<Figure size 720x720 with 1 Axes>"
      ]
     },
     "metadata": {
      "needs_background": "light"
     },
     "output_type": "display_data"
    }
   ],
   "source": [
    "df_plot=new_df.head(30)\n",
    "plt.figure(figsize=(10, 10))\n",
    "sns.barplot(x='Frequency', y='Word', data=df_plot).set_title('Word Frequency Bar Chart - Without Lemmatizing')\n",
    "plt.show()"
   ]
  },
  {
   "cell_type": "code",
   "execution_count": 1060,
   "id": "b6c485d0-9ee0-4b62-be78-0546a8af670c",
   "metadata": {},
   "outputs": [
    {
     "data": {
      "image/png": "[encoded data removed]",
      "text/plain": [
       "<Figure size 720x720 with 1 Axes>"
      ]
     },
     "metadata": {
      "needs_background": "light"
     },
     "output_type": "display_data"
    }
   ],
   "source": [
    "df_plot=new_df2.head(30)\n",
    "plt.figure(figsize=(10, 10))\n",
    "sns.barplot(x='Frequency', y='Word', data=df_plot).set_title('Word Frequency Bar Chart - After Lemmatizing')\n",
    "plt.show()"
   ]
  },
  {
   "cell_type": "markdown",
   "id": "8a4ef14b-ecd4-43bf-b3ed-2f0216a27579",
   "metadata": {},
   "source": [
    "### Remove Assets ###"
   ]
  },
  {
   "cell_type": "code",
   "execution_count": null,
   "id": "7095db3a-8f4b-4a0c-a867-11f54a8bdcff",
   "metadata": {},
   "outputs": [],
   "source": [
    "Descx = data2['After_Lemmatized']\n",
    "temp_copy = Descx.copy()\n",
    "\n",
    "for i in range(0,len(Descx .index)): \n",
    "    singleDescription = Descx [i]\n",
    "    splittedDesc = singleDescription.split()# split, splits the string on delimiter, by default its whitespace\n",
    "    result = ' '.join(word for word in splittedDesc if (word[0:2]!='a0'))\n",
    "    temp_copy [i] = result\n",
    "data2['Asset_Removed'] = temp_copy \n",
    "data2.head()"
   ]
  },
  {
   "cell_type": "code",
   "execution_count": 1062,
   "id": "304b1f82-9eeb-4574-845a-793a626140c4",
   "metadata": {},
   "outputs": [
    {
     "data": {
      "text/html": [
       "<div>\n",
       "<style scoped>\n",
       "    .dataframe tbody tr th:only-of-type {\n",
       "        vertical-align: middle;\n",
       "    }\n",
       "\n",
       "    .dataframe tbody tr th {\n",
       "        vertical-align: top;\n",
       "    }\n",
       "\n",
       "    .dataframe thead th {\n",
       "        text-align: right;\n",
       "    }\n",
       "</style>\n",
       "<table border=\"1\" class=\"dataframe\">\n",
       "  <thead>\n",
       "    <tr style=\"text-align: right;\">\n",
       "      <th></th>\n",
       "      <th>Issue Type</th>\n",
       "      <th>Key</th>\n",
       "      <th>Linked Issues</th>\n",
       "      <th>Summary</th>\n",
       "      <th>Status</th>\n",
       "      <th>Assignable Responsible Group</th>\n",
       "      <th>Assignee</th>\n",
       "      <th>Creator</th>\n",
       "      <th>Reporter</th>\n",
       "      <th>Priority</th>\n",
       "      <th>Resolution</th>\n",
       "      <th>Created</th>\n",
       "      <th>Updated</th>\n",
       "      <th>Due Date</th>\n",
       "      <th>Development</th>\n",
       "      <th>Jira Project</th>\n",
       "      <th>Resolved</th>\n",
       "      <th>Resolution Detail</th>\n",
       "      <th>Service Request SLA Category</th>\n",
       "      <th>Description</th>\n",
       "      <th>Description Message</th>\n",
       "      <th>Kurulumu istenen uygulama adı</th>\n",
       "      <th>No_SW_Lowered</th>\n",
       "      <th>Verbs</th>\n",
       "      <th>After_Lemmatized</th>\n",
       "      <th>Asset_Removed</th>\n",
       "    </tr>\n",
       "  </thead>\n",
       "  <tbody>\n",
       "    <tr>\n",
       "      <th>99</th>\n",
       "      <td>Service Request</td>\n",
       "      <td>SM-52981</td>\n",
       "      <td>NaN</td>\n",
       "      <td>Software Install / Uninstall</td>\n",
       "      <td>CLOSED</td>\n",
       "      <td>Çerkezköy Kurutucu User Support</td>\n",
       "      <td>Hasan Şafak Tetik</td>\n",
       "      <td>Hasan Şafak Tetik</td>\n",
       "      <td>Baran Cömert</td>\n",
       "      <td>Normal</td>\n",
       "      <td>Done</td>\n",
       "      <td>22/Feb/21 12:16 PM</td>\n",
       "      <td>26/Jul/21 1:23 PM</td>\n",
       "      <td>NaN</td>\n",
       "      <td>NaN</td>\n",
       "      <td>NaN</td>\n",
       "      <td>22/Feb/21 12:18 PM</td>\n",
       "      <td>sap kaldırıldı</td>\n",
       "      <td>T1</td>\n",
       "      <td>A00104011'den sap kaldırılması</td>\n",
       "      <td>NaN</td>\n",
       "      <td>NaN</td>\n",
       "      <td>a00104011den sap</td>\n",
       "      <td>kaldırılması</td>\n",
       "      <td>a00104011den sapmak</td>\n",
       "      <td>sapmak</td>\n",
       "    </tr>\n",
       "  </tbody>\n",
       "</table>\n",
       "</div>"
      ],
      "text/plain": [
       "         Issue Type       Key Linked Issues                       Summary  \\\n",
       "99  Service Request  SM-52981           NaN  Software Install / Uninstall   \n",
       "\n",
       "    Status     Assignable Responsible Group           Assignee  \\\n",
       "99  CLOSED  Çerkezköy Kurutucu User Support  Hasan Şafak Tetik   \n",
       "\n",
       "              Creator      Reporter Priority Resolution             Created  \\\n",
       "99  Hasan Şafak Tetik  Baran Cömert   Normal       Done  22/Feb/21 12:16 PM   \n",
       "\n",
       "              Updated  Due Date  Development  Jira Project  \\\n",
       "99  26/Jul/21 1:23 PM       NaN          NaN           NaN   \n",
       "\n",
       "              Resolved Resolution Detail Service Request SLA Category  \\\n",
       "99  22/Feb/21 12:18 PM    sap kaldırıldı                           T1   \n",
       "\n",
       "                       Description  Description Message  \\\n",
       "99  A00104011'den sap kaldırılması                  NaN   \n",
       "\n",
       "    Kurulumu istenen uygulama adı     No_SW_Lowered         Verbs  \\\n",
       "99                            NaN  a00104011den sap  kaldırılması   \n",
       "\n",
       "       After_Lemmatized Asset_Removed  \n",
       "99  a00104011den sapmak        sapmak  "
      ]
     },
     "execution_count": 1062,
     "metadata": {},
     "output_type": "execute_result"
    }
   ],
   "source": [
    "data2.loc[[99]]"
   ]
  },
  {
   "cell_type": "markdown",
   "id": "6b38d953-64d6-419f-9322-27976d27638f",
   "metadata": {},
   "source": [
    "### Extract Software Names, Remove Common Words, Extract Words with Numbers (Potential Software Version), and Extract The Manually Selected Details ###"
   ]
  },
  {
   "cell_type": "code",
   "execution_count": null,
   "id": "d5041990-eaea-44bc-bfbc-f3e107c20cf2",
   "metadata": {},
   "outputs": [],
   "source": [
    "data2['temp'] = data2['Asset_Removed'].apply(word_tokenize) #tokenize the description\n",
    "\n",
    "Cowords = [line.strip() for line in open('Cowords.txt',encoding='utf-8')]\n",
    "Softnames = [line.strip() for line in open('manualsoftnames.txt',encoding='utf-8')]\n",
    "Potnames = [line.strip() for line in open('potnames.txt',encoding='utf-8')]\n",
    "Verb_Checker = ('mak','mek','mesi','ması','mesini','masını','ıyorum','iyorum','makta','mekte','ğımız','ğimiz','bilmem','upgrade','install','setup','erim','ederim','kurulumu','iyor','ıyor','mam','mem','kullanmam','mış','miş','update') #arım and ma me gives error\n",
    "\n",
    "\n",
    "temporaly = data2['temp'].copy()\n",
    "tempverb = data2['temp'].copy()\n",
    "tempother = data2['temp'].copy()\n",
    "tempsoft = data2['temp'].copy()\n",
    "tempvers = data2['temp'].copy()\n",
    "\n",
    "for i in range(0,len(temporaly.index)): \n",
    "    singleDescription = temporaly[i]\n",
    "    result2 = ' '.join(word for word in singleDescription if word.endswith(tuple(Verb_Checker)) and not word.startswith(tuple(Cowords)) and not word.startswith(tuple(Softnames)) and word not in Potnames)\n",
    "    result3 = ' '.join(word for word in singleDescription if word in Potnames)\n",
    "    result4 = ' '.join(word for word in singleDescription if word.startswith(tuple(Softnames)))\n",
    "    result5 = ' '.join(word for word in singleDescription if any(map(str.isdigit, word)))\n",
    "    result = ' '.join(word for word in singleDescription if not word.startswith(tuple(Cowords)) and not word in TR_stopwords and not word.endswith(tuple(Verb_Checker)) and not any(map(str.isdigit, word)) and not word.startswith(tuple(Softnames)) and not word in Potnames)\n",
    "    temporaly[i] = result\n",
    "    tempverb[i] = result2\n",
    "    tempother[i] = result3\n",
    "    tempsoft[i] = result4\n",
    "    tempvers[i] = result5\n",
    "    \n",
    "data2['PreProcessed'] = temporaly \n",
    "data2['Software Name'] = tempsoft\n",
    "data2['Software Version / Numeric'] = tempvers\n",
    "data2['Other Detail'] = tempother\n",
    "data2['Verb Used - After Lemm'] = tempverb\n",
    "#data2[\"Verbs Used\"] = data2['Verbs'].astype(str) + data2['Verb Used - After Lemm'].astype(str)\n",
    "#data2 = data2.drop(columns = 'Verbs')\n",
    "#data2 = data2.drop(columns = \"Verb Used - After Lemm\")\n",
    "data2 = data2.drop(columns = \"temp\")\n",
    "data2"
   ]
  },
  {
   "cell_type": "code",
   "execution_count": 1064,
   "id": "da998dd4-1425-4b44-9589-a6491d4b674c",
   "metadata": {},
   "outputs": [],
   "source": [
    "data2[\"Verbs Used\"] = data2['Verbs'] + ' ' + data2[\"Verb Used - After Lemm\"]"
   ]
  },
  {
   "cell_type": "code",
   "execution_count": 1065,
   "id": "5b53c2f9-4915-418e-b3c6-524ffeaf737c",
   "metadata": {},
   "outputs": [],
   "source": [
    "data2 = data2.drop(columns = 'Verbs')\n",
    "data2 = data2.drop(columns = \"Verb Used - After Lemm\")\n",
    "data2 = data2.drop(columns = \"No_SW_Lowered\")\n",
    "data2 = data2.drop(columns = \"After_Lemmatized\")\n",
    "data2 = data2.drop(columns = \"Asset_Removed\")"
   ]
  },
  {
   "cell_type": "markdown",
   "id": "83055eab-bcd6-4dd8-b412-6ebc6b0f1baf",
   "metadata": {},
   "source": [
    "### Remove Punctuations ###"
   ]
  },
  {
   "cell_type": "markdown",
   "id": "afeea4c2-1d14-4023-8eb7-2b3bb9d27006",
   "metadata": {},
   "source": [
    "### Preprocessed Data ###"
   ]
  },
  {
   "cell_type": "code",
   "execution_count": null,
   "id": "58f9faf9-65ed-4e93-9666-4e172080ec30",
   "metadata": {},
   "outputs": [],
   "source": [
    "data2"
   ]
  },
  {
   "cell_type": "markdown",
   "id": "c50ddac7-d446-473c-b07d-e5958a18661a",
   "metadata": {},
   "source": [
    "### Word Frequency After Removing Some Common Words ###"
   ]
  },
  {
   "cell_type": "code",
   "execution_count": 1067,
   "id": "7d717501-4746-4864-a6cd-4b864350dd0c",
   "metadata": {},
   "outputs": [
    {
     "data": {
      "text/html": [
       "<div>\n",
       "<style scoped>\n",
       "    .dataframe tbody tr th:only-of-type {\n",
       "        vertical-align: middle;\n",
       "    }\n",
       "\n",
       "    .dataframe tbody tr th {\n",
       "        vertical-align: top;\n",
       "    }\n",
       "\n",
       "    .dataframe thead th {\n",
       "        text-align: right;\n",
       "    }\n",
       "</style>\n",
       "<table border=\"1\" class=\"dataframe\">\n",
       "  <thead>\n",
       "    <tr style=\"text-align: right;\">\n",
       "      <th></th>\n",
       "      <th>Word</th>\n",
       "      <th>Frequency</th>\n",
       "    </tr>\n",
       "  </thead>\n",
       "  <tbody>\n",
       "    <tr>\n",
       "      <th>0</th>\n",
       "      <td>proje</td>\n",
       "      <td>115</td>\n",
       "    </tr>\n",
       "    <tr>\n",
       "      <th>1</th>\n",
       "      <td>iyi</td>\n",
       "      <td>109</td>\n",
       "    </tr>\n",
       "    <tr>\n",
       "      <th>2</th>\n",
       "      <td>dosya</td>\n",
       "      <td>100</td>\n",
       "    </tr>\n",
       "    <tr>\n",
       "      <th>3</th>\n",
       "      <td>sistem</td>\n",
       "      <td>91</td>\n",
       "    </tr>\n",
       "    <tr>\n",
       "      <th>4</th>\n",
       "      <td>asset</td>\n",
       "      <td>88</td>\n",
       "    </tr>\n",
       "    <tr>\n",
       "      <th>...</th>\n",
       "      <td>...</td>\n",
       "      <td>...</td>\n",
       "    </tr>\n",
       "    <tr>\n",
       "      <th>3264</th>\n",
       "      <td>nicelabelpro</td>\n",
       "      <td>1</td>\n",
       "    </tr>\n",
       "    <tr>\n",
       "      <th>3265</th>\n",
       "      <td>goo</td>\n",
       "      <td>1</td>\n",
       "    </tr>\n",
       "    <tr>\n",
       "      <th>3266</th>\n",
       "      <td>sunu</td>\n",
       "      <td>1</td>\n",
       "    </tr>\n",
       "    <tr>\n",
       "      <th>3267</th>\n",
       "      <td>aracı</td>\n",
       "      <td>1</td>\n",
       "    </tr>\n",
       "    <tr>\n",
       "      <th>3268</th>\n",
       "      <td>pragma</td>\n",
       "      <td>1</td>\n",
       "    </tr>\n",
       "  </tbody>\n",
       "</table>\n",
       "<p>3269 rows × 2 columns</p>\n",
       "</div>"
      ],
      "text/plain": [
       "              Word  Frequency\n",
       "0            proje        115\n",
       "1              iyi        109\n",
       "2            dosya        100\n",
       "3           sistem         91\n",
       "4            asset         88\n",
       "...            ...        ...\n",
       "3264  nicelabelpro          1\n",
       "3265           goo          1\n",
       "3266          sunu          1\n",
       "3267         aracı          1\n",
       "3268        pragma          1\n",
       "\n",
       "[3269 rows x 2 columns]"
      ]
     },
     "execution_count": 1067,
     "metadata": {},
     "output_type": "execute_result"
    }
   ],
   "source": [
    "new_df = data2['PreProcessed'].str.replace('[^\\w\\s]','', regex=True).str.split(expand=True).stack().value_counts().reset_index() #in case punctuation was previously needed / unremoved\n",
    "soft_df = data2['Software Name'].str.replace('[^\\w\\s]','', regex=True).str.split(expand=True).stack().value_counts().reset_index()\n",
    "verb_df = data2['Verbs Used'].str.replace('[^\\w\\s]','', regex=True).str.split(expand=True).stack().value_counts().reset_index()\n",
    "new_df.columns = ['Word', 'Frequency']\n",
    "verb_df.columns = ['Word', 'Frequency']\n",
    "soft_df.columns = ['Word', 'Frequency']\n",
    "pd.set_option(\"display.max_rows\", 50, \"display.max_columns\", None) #50 set to None for Full Viewing\n",
    "new_df"
   ]
  },
  {
   "cell_type": "markdown",
   "id": "822fbff4-e622-44a0-bd81-58bdeacf34f1",
   "metadata": {},
   "source": [
    "### Unique Words - Possible Target words for lemmitizing/stemming ###"
   ]
  },
  {
   "cell_type": "code",
   "execution_count": 1068,
   "id": "3b2148c4-0ec7-4520-a2df-dc06b9b11ddf",
   "metadata": {},
   "outputs": [
    {
     "data": {
      "text/html": [
       "<div>\n",
       "<style scoped>\n",
       "    .dataframe tbody tr th:only-of-type {\n",
       "        vertical-align: middle;\n",
       "    }\n",
       "\n",
       "    .dataframe tbody tr th {\n",
       "        vertical-align: top;\n",
       "    }\n",
       "\n",
       "    .dataframe thead th {\n",
       "        text-align: right;\n",
       "    }\n",
       "</style>\n",
       "<table border=\"1\" class=\"dataframe\">\n",
       "  <thead>\n",
       "    <tr style=\"text-align: right;\">\n",
       "      <th></th>\n",
       "      <th>Word</th>\n",
       "      <th>Frequency</th>\n",
       "    </tr>\n",
       "  </thead>\n",
       "  <tbody>\n",
       "    <tr>\n",
       "      <th>1432</th>\n",
       "      <td>occurs</td>\n",
       "      <td>1</td>\n",
       "    </tr>\n",
       "    <tr>\n",
       "      <th>1433</th>\n",
       "      <td>reset</td>\n",
       "      <td>1</td>\n",
       "    </tr>\n",
       "    <tr>\n",
       "      <th>1434</th>\n",
       "      <td>ica</td>\n",
       "      <td>1</td>\n",
       "    </tr>\n",
       "    <tr>\n",
       "      <th>1435</th>\n",
       "      <td>however</td>\n",
       "      <td>1</td>\n",
       "    </tr>\n",
       "    <tr>\n",
       "      <th>1436</th>\n",
       "      <td>zâfir</td>\n",
       "      <td>1</td>\n",
       "    </tr>\n",
       "    <tr>\n",
       "      <th>...</th>\n",
       "      <td>...</td>\n",
       "      <td>...</td>\n",
       "    </tr>\n",
       "    <tr>\n",
       "      <th>3264</th>\n",
       "      <td>nicelabelpro</td>\n",
       "      <td>1</td>\n",
       "    </tr>\n",
       "    <tr>\n",
       "      <th>3265</th>\n",
       "      <td>goo</td>\n",
       "      <td>1</td>\n",
       "    </tr>\n",
       "    <tr>\n",
       "      <th>3266</th>\n",
       "      <td>sunu</td>\n",
       "      <td>1</td>\n",
       "    </tr>\n",
       "    <tr>\n",
       "      <th>3267</th>\n",
       "      <td>aracı</td>\n",
       "      <td>1</td>\n",
       "    </tr>\n",
       "    <tr>\n",
       "      <th>3268</th>\n",
       "      <td>pragma</td>\n",
       "      <td>1</td>\n",
       "    </tr>\n",
       "  </tbody>\n",
       "</table>\n",
       "<p>1837 rows × 2 columns</p>\n",
       "</div>"
      ],
      "text/plain": [
       "              Word  Frequency\n",
       "1432        occurs          1\n",
       "1433         reset          1\n",
       "1434           ica          1\n",
       "1435       however          1\n",
       "1436         zâfir          1\n",
       "...            ...        ...\n",
       "3264  nicelabelpro          1\n",
       "3265           goo          1\n",
       "3266          sunu          1\n",
       "3267         aracı          1\n",
       "3268        pragma          1\n",
       "\n",
       "[1837 rows x 2 columns]"
      ]
     },
     "execution_count": 1068,
     "metadata": {},
     "output_type": "execute_result"
    }
   ],
   "source": [
    "new_df.loc[new_df['Frequency'] == 1]"
   ]
  },
  {
   "cell_type": "markdown",
   "id": "34ecb57a-66d5-4703-83af-d2a9621928cd",
   "metadata": {},
   "source": [
    "### Bar Charts - Latest Word Frequency, Software Names, Verbs ###"
   ]
  },
  {
   "cell_type": "code",
   "execution_count": 1069,
   "id": "5bbf753f-619f-4360-a791-a2d85dec1bd4",
   "metadata": {},
   "outputs": [
    {
     "data": {
      "image/png": "[encoded data removed]",
      "text/plain": [
       "<Figure size 720x720 with 1 Axes>"
      ]
     },
     "metadata": {
      "needs_background": "light"
     },
     "output_type": "display_data"
    }
   ],
   "source": [
    "df_plot=new_df.head(30)\n",
    "plt.figure(figsize=(10, 10))\n",
    "sns.barplot(x='Frequency', y='Word', data=df_plot).set_title('Word Frequency Bar Chart - After Removing Some Common Words')\n",
    "plt.show()"
   ]
  },
  {
   "cell_type": "markdown",
   "id": "cdc7e22a-9f13-46e0-94d1-e5684e2c70bc",
   "metadata": {},
   "source": [
    "Note : Software Names are not removed from the description, just copied"
   ]
  },
  {
   "cell_type": "markdown",
   "id": "bd11e248-a584-426f-82db-780f1af6bb3a",
   "metadata": {},
   "source": [
    "Verb Chart - May be Useful to learn what's being asked with the software"
   ]
  },
  {
   "cell_type": "code",
   "execution_count": 1070,
   "id": "605ec6a7-088a-4863-ab05-efd987803e35",
   "metadata": {},
   "outputs": [
    {
     "data": {
      "image/png": "[encoded data removed]",
      "text/plain": [
       "<Figure size 720x720 with 1 Axes>"
      ]
     },
     "metadata": {
      "needs_background": "light"
     },
     "output_type": "display_data"
    }
   ],
   "source": [
    "df_plot=verb_df.head(30)\n",
    "plt.figure(figsize=(10, 10))\n",
    "sns.barplot(x='Frequency', y='Word', data=df_plot).set_title('Verb Chart')\n",
    "plt.show()"
   ]
  },
  {
   "cell_type": "markdown",
   "id": "8f2e88c3-06e5-4a2f-9e3c-a293ac1a5b17",
   "metadata": {},
   "source": [
    "### Bar Charts - Software Name ###"
   ]
  },
  {
   "cell_type": "code",
   "execution_count": 1071,
   "id": "7b2c1089-1204-4ce6-b2ed-b697b805a100",
   "metadata": {},
   "outputs": [
    {
     "data": {
      "image/png": "[encoded data removed]",
      "text/plain": [
       "<Figure size 720x720 with 1 Axes>"
      ]
     },
     "metadata": {
      "needs_background": "light"
     },
     "output_type": "display_data"
    }
   ],
   "source": [
    "df_plot=soft_df.head(30)\n",
    "plt.figure(figsize=(10, 10))\n",
    "sns.barplot(x='Frequency', y='Word', data=df_plot).set_title('Software Names Chart')\n",
    "plt.show()"
   ]
  },
  {
   "cell_type": "code",
   "execution_count": 1072,
   "id": "8ee68bc3-815a-42b5-b703-5726244e1d1a",
   "metadata": {},
   "outputs": [
    {
     "data": {
      "text/plain": [
       "pandas.core.frame.DataFrame"
      ]
     },
     "execution_count": 1072,
     "metadata": {},
     "output_type": "execute_result"
    }
   ],
   "source": [
    "type(new_df)"
   ]
  },
  {
   "cell_type": "code",
   "execution_count": 1073,
   "id": "746f1f80-30c6-4e8f-8601-c9f2c999d4ff",
   "metadata": {},
   "outputs": [
    {
     "data": {
      "text/plain": [
       "0        26/Feb/21 5:12 PM\n",
       "1        26/Feb/21 3:55 PM\n",
       "2        26/Feb/21 4:42 PM\n",
       "3        26/Feb/21 4:07 PM\n",
       "4        26/Feb/21 4:07 PM\n",
       "               ...        \n",
       "3429    03/Jun/21 10:54 AM\n",
       "3430     03/Jun/21 8:15 AM\n",
       "3431     17/Jun/21 5:08 PM\n",
       "3432     08/Jun/21 8:18 AM\n",
       "3433     01/Jun/21 9:47 AM\n",
       "Name: Resolved, Length: 3434, dtype: object"
      ]
     },
     "execution_count": 1073,
     "metadata": {},
     "output_type": "execute_result"
    }
   ],
   "source": [
    "data2[\"Resolved\"]"
   ]
  },
  {
   "cell_type": "code",
   "execution_count": 1074,
   "id": "0d2ca21c-2f65-424c-ab1a-ad11d1e54914",
   "metadata": {},
   "outputs": [],
   "source": [
    "data2.to_excel(\"output1.xlsx\")"
   ]
  },
  {
   "cell_type": "code",
   "execution_count": null,
   "id": "04b8efd5-920e-4eb2-a733-1731cfd0e208",
   "metadata": {},
   "outputs": [],
   "source": [
    "Times = data2[\"Resolved\"]\n",
    "timelist = Times.copy()\n",
    "for i in range(0,len(Times.index)):\n",
    "    aTime = Times[i]\n",
    "    splittedtime =  aTime.split()\n",
    "    result = ' '.join(word[0])\n",
    "    timelist[i] = result\n"
   ]
  },
  {
   "cell_type": "code",
   "execution_count": null,
   "id": "43c8a29c-b33b-4c15-954f-ce8f5532d1ee",
   "metadata": {},
   "outputs": [],
   "source": [
    "data2['FeatureExtraction'] = data2['PreProcessed']\n",
    "#Counter(data2['FeatureExtraction'])"
   ]
  }
 ],
 "metadata": {
  "kernelspec": {
   "display_name": "Python 3",
   "language": "python",
   "name": "python3"
  },
  "language_info": {
   "codemirror_mode": {
    "name": "ipython",
    "version": 3
   },
   "file_extension": ".py",
   "mimetype": "text/x-python",
   "name": "python",
   "nbconvert_exporter": "python",
   "pygments_lexer": "ipython3",
   "version": "3.9.5"
  }
 },
 "nbformat": 4,
 "nbformat_minor": 5
}
